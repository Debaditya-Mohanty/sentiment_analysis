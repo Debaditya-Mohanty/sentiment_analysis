{
 "cells": [
  {
   "cell_type": "code",
   "execution_count": null,
   "metadata": {},
   "outputs": [],
   "source": [
    "import tweepy\n",
    "from textblob import TextBlob\n",
    "import re\n",
    "import string\n",
    "#import preprocessor as p\n",
    "import json\n",
    "import pandas as pd\n",
    "import csv\n",
    "\n",
    "\n"
   ]
  },
  {
   "cell_type": "code",
   "execution_count": 2,
   "metadata": {},
   "outputs": [],
   "source": [
    "#twitter API access through tweepy\n",
    "\n",
    "consumer_key=\"XM5fbXhj6r0B7fvWJgj8a3LyJ\"\n",
    "consumer_secret=\"JXsoYwCgUkzfqRWvrbK6g8LOKpZVgH7wSUG3FMimSL8PT8esdS\"\n",
    "access_token_key=\"1268088622835625984-QSYA6I9O5uGIsGpQsu9oX2tEydgk0x\"\n",
    "access_token_secret=\"I1YzsKbUyRICqX91s9ae1cDpKyc5ZgSt4EHuSY9Q4EfH9\""
   ]
  },
  {
   "cell_type": "code",
   "execution_count": 3,
   "metadata": {},
   "outputs": [],
   "source": [
    "#twitter authentication\n",
    "\n",
    "auth=tweepy.OAuthHandler(consumer_key,consumer_secret)\n",
    "auth.set_access_token(access_token_key,access_token_secret)\n",
    "api=tweepy.API(auth,wait_on_rate_limit=True)"
   ]
  },
  {
   "cell_type": "code",
   "execution_count": 4,
   "metadata": {},
   "outputs": [],
   "source": [
    "\n",
    "search_words=[\"#AtmaNirbharBharat\"]\n",
    "date_since=\"2020-02-10\"\n",
    "\n"
   ]
  },
  {
   "cell_type": "code",
   "execution_count": 5,
   "metadata": {},
   "outputs": [],
   "source": [
    "tweets=tweepy.Cursor(api.search,q=search_words,lang=\"en\",since=date_since).items(20000)\n",
    "\n"
   ]
  },
  {
   "cell_type": "code",
   "execution_count": 6,
   "metadata": {},
   "outputs": [],
   "source": [
    "#for tweet in tweets:\n",
    " #   print(tweet.text)\n",
    "  #  print(tweet.id_str)\n",
    " #   print(tweet.user.screen_name)\n",
    "  #  print(tweet.retweet_count)\n",
    "   # print(tweet.created_at)"
   ]
  },
  {
   "cell_type": "code",
   "execution_count": 7,
   "metadata": {},
   "outputs": [],
   "source": [
    "users_loc = [[tweet.user.screen_name, tweet.text,tweet.user.location,tweet.retweet_count,tweet.created_at,tweet.place,tweet.user.followers_count] for tweet in tweets]\n",
    "#users_loc"
   ]
  },
  {
   "cell_type": "code",
   "execution_count": 8,
   "metadata": {},
   "outputs": [],
   "source": [
    "import pandas as pd\n",
    "uncleaned_data =pd.DataFrame(data=users_loc,columns=['User', \"Tweet\",\"Location\",\"Retweet Count\",\"Date\",\"Place\",\"followers count\"])\n",
    "uncleaned_data\n",
    "uncleaned_data.to_csv('AtmaNirbharBharat2.csv')"
   ]
  },
  {
   "cell_type": "code",
   "execution_count": null,
   "metadata": {},
   "outputs": [],
   "source": []
  },
  {
   "cell_type": "code",
   "execution_count": null,
   "metadata": {},
   "outputs": [],
   "source": []
  },
  {
   "cell_type": "code",
   "execution_count": null,
   "metadata": {},
   "outputs": [],
   "source": []
  },
  {
   "cell_type": "code",
   "execution_count": null,
   "metadata": {},
   "outputs": [],
   "source": []
  }
 ],
 "metadata": {
  "kernelspec": {
   "display_name": "Python 3",
   "language": "python",
   "name": "python3"
  },
  "language_info": {
   "codemirror_mode": {
    "name": "ipython",
    "version": 3
   },
   "file_extension": ".py",
   "mimetype": "text/x-python",
   "name": "python",
   "nbconvert_exporter": "python",
   "pygments_lexer": "ipython3",
   "version": "3.7.4"
  }
 },
 "nbformat": 4,
 "nbformat_minor": 4
}
